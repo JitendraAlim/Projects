{
  "nbformat": 4,
  "nbformat_minor": 0,
  "metadata": {
    "colab": {
      "name": "Soccer Game Outcome Prediction.ipynb",
      "provenance": [],
      "authorship_tag": "ABX9TyPi1etePbbbnkhbVpiPXn6m",
      "include_colab_link": true
    },
    "kernelspec": {
      "name": "python3",
      "display_name": "Python 3"
    },
    "accelerator": "GPU"
  },
  "cells": [
    {
      "cell_type": "markdown",
      "metadata": {
        "id": "view-in-github",
        "colab_type": "text"
      },
      "source": [
        "<a href=\"https://colab.research.google.com/github/JitendraAlim/Projects/blob/master/Soccer%20Results%20Prediction/Soccer_Game_Outcome_Prediction.ipynb\" target=\"_parent\"><img src=\"https://colab.research.google.com/assets/colab-badge.svg\" alt=\"Open In Colab\"/></a>"
      ]
    },
    {
      "cell_type": "markdown",
      "metadata": {
        "id": "-oUdgx2BYKEh",
        "colab_type": "text"
      },
      "source": [
        "# Soccer Game Outcome Prediction\n",
        "\n",
        "![Soccer](https://latestwallpapershd.com/?edmc=28219)"
      ]
    },
    {
      "cell_type": "code",
      "metadata": {
        "id": "EPM8s3FBX78X",
        "colab_type": "code",
        "colab": {
          "base_uri": "https://localhost:8080/",
          "height": 67
        },
        "outputId": "56604242-9b32-4ffc-9285-2b9a31fbbcac"
      },
      "source": [
        "# Importing Pandas for Data Management\n",
        "import pandas as pd\n",
        "\n",
        "# Importing the datasets\n",
        "train = pd.read_csv('https://raw.githubusercontent.com/JitendraAlim/Projects/master/Soccer%20Results%20Prediction/training_data.csv', sep = ';')\n",
        "validation = pd.read_csv('https://raw.githubusercontent.com/JitendraAlim/Projects/master/Soccer%20Results%20Prediction/validation_data.csv', sep = ';')\n",
        "test = pd.read_csv('https://raw.githubusercontent.com/JitendraAlim/Projects/master/Soccer%20Results%20Prediction/testing_data.csv', sep = ';')\n",
        "\n",
        "print('Dimension of Training data:  ', train.shape)\n",
        "print('Dimension of Validation data:', validation.shape)\n",
        "print('Dimension of Testing data:   ', test.shape)"
      ],
      "execution_count": 1,
      "outputs": [
        {
          "output_type": "stream",
          "text": [
            "Dimension of Training data:   (31600, 102)\n",
            "Dimension of Validation data: (7900, 102)\n",
            "Dimension of Testing data:    (500, 101)\n"
          ],
          "name": "stdout"
        }
      ]
    },
    {
      "cell_type": "code",
      "metadata": {
        "id": "fNk-1OOMZ25r",
        "colab_type": "code",
        "colab": {
          "base_uri": "https://localhost:8080/",
          "height": 397
        },
        "outputId": "811966c9-34f3-4dc5-e96a-e333f48a806f"
      },
      "source": [
        "# Exploring the Training data\n",
        "train.head()"
      ],
      "execution_count": 2,
      "outputs": [
        {
          "output_type": "execute_result",
          "data": {
            "text/html": [
              "<div>\n",
              "<style scoped>\n",
              "    .dataframe tbody tr th:only-of-type {\n",
              "        vertical-align: middle;\n",
              "    }\n",
              "\n",
              "    .dataframe tbody tr th {\n",
              "        vertical-align: top;\n",
              "    }\n",
              "\n",
              "    .dataframe thead th {\n",
              "        text-align: right;\n",
              "    }\n",
              "</style>\n",
              "<table border=\"1\" class=\"dataframe\">\n",
              "  <thead>\n",
              "    <tr style=\"text-align: right;\">\n",
              "      <th></th>\n",
              "      <th>fixture_id</th>\n",
              "      <th>teams_home_team_id</th>\n",
              "      <th>teams_away_team_id</th>\n",
              "      <th>fixture_date</th>\n",
              "      <th>fixture_venue</th>\n",
              "      <th>league_id</th>\n",
              "      <th>league_name</th>\n",
              "      <th>league_country</th>\n",
              "      <th>league_season</th>\n",
              "      <th>league_round</th>\n",
              "      <th>home_team_venue_name</th>\n",
              "      <th>home_team_venue_city</th>\n",
              "      <th>home_team_venue_capacity</th>\n",
              "      <th>home_team_country</th>\n",
              "      <th>home_team_founded</th>\n",
              "      <th>away_team_venue_name</th>\n",
              "      <th>away_team_venue_city</th>\n",
              "      <th>away_team_venue_capacity</th>\n",
              "      <th>away_team_country</th>\n",
              "      <th>away_team_founded</th>\n",
              "      <th>match_winner</th>\n",
              "      <th>under_over</th>\n",
              "      <th>goals_home</th>\n",
              "      <th>goals_away</th>\n",
              "      <th>winning_percent_home</th>\n",
              "      <th>winning_percent_draws</th>\n",
              "      <th>winning_percent_away</th>\n",
              "      <th>comparison_forme_home</th>\n",
              "      <th>comparison_forme_away</th>\n",
              "      <th>comparison_att_home</th>\n",
              "      <th>comparison_att_away</th>\n",
              "      <th>comparison_def_home</th>\n",
              "      <th>comparison_def_away</th>\n",
              "      <th>comparison_fish_law_home</th>\n",
              "      <th>comparison_fish_law_away</th>\n",
              "      <th>comparison_h2h_home</th>\n",
              "      <th>comparison_h2h_away</th>\n",
              "      <th>comparison_goals_h2h_home</th>\n",
              "      <th>comparison_goals_h2h_away</th>\n",
              "      <th>teams_home_last_5_matches_forme</th>\n",
              "      <th>...</th>\n",
              "      <th>teams_home_all_last_matches_goalsAvg_goalsFor_away</th>\n",
              "      <th>teams_home_all_last_matches_goalsAvg_goalsAgainst_home</th>\n",
              "      <th>teams_home_all_last_matches_goalsAvg_goalsAgainst_away</th>\n",
              "      <th>teams_home_last_h2h_played_home</th>\n",
              "      <th>teams_home_last_h2h_played_away</th>\n",
              "      <th>teams_home_last_h2h_wins_home</th>\n",
              "      <th>teams_home_last_h2h_wins_away</th>\n",
              "      <th>teams_home_last_h2h_draws_home</th>\n",
              "      <th>teams_home_last_h2h_draws_away</th>\n",
              "      <th>teams_home_last_h2h_loses_home</th>\n",
              "      <th>teams_home_last_h2h_loses_away</th>\n",
              "      <th>teams_away_last_5_matches_goals</th>\n",
              "      <th>teams_away_last_5_matches_goals_avg</th>\n",
              "      <th>teams_away_last_5_matches_goals_against</th>\n",
              "      <th>teams_away_last_5_matches_goals_against_avg</th>\n",
              "      <th>teams_away_all_last_matches_matchs_matchsPlayed_home</th>\n",
              "      <th>teams_away_all_last_matches_matchs_matchsPlayed_away</th>\n",
              "      <th>teams_away_all_last_matches_matchs_wins_home</th>\n",
              "      <th>teams_away_all_last_matches_matchs_wins_away</th>\n",
              "      <th>teams_away_all_last_matches_matchs_draws_home</th>\n",
              "      <th>teams_away_all_last_matches_matchs_draws_away</th>\n",
              "      <th>teams_away_all_last_matches_matchs_loses_home</th>\n",
              "      <th>teams_away_all_last_matches_matchs_loses_away</th>\n",
              "      <th>teams_away_all_last_matches_goals_goalsFor_home</th>\n",
              "      <th>teams_away_all_last_matches_goals_goalsFor_away</th>\n",
              "      <th>teams_away_all_last_matches_goals_goalsAgainst_home</th>\n",
              "      <th>teams_away_all_last_matches_goals_goalsAgainst_away</th>\n",
              "      <th>teams_away_all_last_matches_goalsAvg_goalsFor_home</th>\n",
              "      <th>teams_away_all_last_matches_goalsAvg_goalsFor_away</th>\n",
              "      <th>teams_away_all_last_matches_goalsAvg_goalsAgainst_home</th>\n",
              "      <th>teams_away_all_last_matches_goalsAvg_goalsAgainst_away</th>\n",
              "      <th>teams_away_last_h2h_played_home</th>\n",
              "      <th>teams_away_last_h2h_played_away</th>\n",
              "      <th>teams_away_last_h2h_wins_home</th>\n",
              "      <th>teams_away_last_h2h_wins_away</th>\n",
              "      <th>teams_away_last_h2h_draws_home</th>\n",
              "      <th>teams_away_last_h2h_draws_away</th>\n",
              "      <th>teams_away_last_h2h_loses_home</th>\n",
              "      <th>teams_away_last_h2h_loses_away</th>\n",
              "      <th>outcome</th>\n",
              "    </tr>\n",
              "  </thead>\n",
              "  <tbody>\n",
              "    <tr>\n",
              "      <th>0</th>\n",
              "      <td>153809</td>\n",
              "      <td>407</td>\n",
              "      <td>400</td>\n",
              "      <td>2019-10-06</td>\n",
              "      <td>Brøndby Stadion</td>\n",
              "      <td>515</td>\n",
              "      <td>Superligaen</td>\n",
              "      <td>Denmark</td>\n",
              "      <td>2019</td>\n",
              "      <td>Regular Season - 12</td>\n",
              "      <td>Brøndby Stadion</td>\n",
              "      <td>Brøndby</td>\n",
              "      <td>29000.0</td>\n",
              "      <td>Denmark</td>\n",
              "      <td>1964.0</td>\n",
              "      <td>Telia Parken</td>\n",
              "      <td>København</td>\n",
              "      <td>38065.0</td>\n",
              "      <td>Denmark</td>\n",
              "      <td>1992.0</td>\n",
              "      <td>N 2</td>\n",
              "      <td>NaN</td>\n",
              "      <td>-2.5</td>\n",
              "      <td>-2.5</td>\n",
              "      <td>10</td>\n",
              "      <td>45</td>\n",
              "      <td>45</td>\n",
              "      <td>30</td>\n",
              "      <td>70</td>\n",
              "      <td>43</td>\n",
              "      <td>57</td>\n",
              "      <td>35</td>\n",
              "      <td>65</td>\n",
              "      <td>0</td>\n",
              "      <td>0</td>\n",
              "      <td>7</td>\n",
              "      <td>93</td>\n",
              "      <td>33</td>\n",
              "      <td>67</td>\n",
              "      <td>20</td>\n",
              "      <td>...</td>\n",
              "      <td>1.2</td>\n",
              "      <td>1.7</td>\n",
              "      <td>1.6</td>\n",
              "      <td>18</td>\n",
              "      <td>18</td>\n",
              "      <td>7</td>\n",
              "      <td>2</td>\n",
              "      <td>5</td>\n",
              "      <td>6</td>\n",
              "      <td>6</td>\n",
              "      <td>10</td>\n",
              "      <td>8</td>\n",
              "      <td>1.6</td>\n",
              "      <td>6</td>\n",
              "      <td>1.2</td>\n",
              "      <td>5</td>\n",
              "      <td>6</td>\n",
              "      <td>4</td>\n",
              "      <td>4</td>\n",
              "      <td>1</td>\n",
              "      <td>0</td>\n",
              "      <td>0</td>\n",
              "      <td>2</td>\n",
              "      <td>11</td>\n",
              "      <td>9</td>\n",
              "      <td>4</td>\n",
              "      <td>6</td>\n",
              "      <td>2.2</td>\n",
              "      <td>1.5</td>\n",
              "      <td>0.8</td>\n",
              "      <td>1.0</td>\n",
              "      <td>18</td>\n",
              "      <td>18</td>\n",
              "      <td>10</td>\n",
              "      <td>6</td>\n",
              "      <td>6</td>\n",
              "      <td>5</td>\n",
              "      <td>2</td>\n",
              "      <td>7</td>\n",
              "      <td>1</td>\n",
              "    </tr>\n",
              "    <tr>\n",
              "      <th>1</th>\n",
              "      <td>363929</td>\n",
              "      <td>7412</td>\n",
              "      <td>7410</td>\n",
              "      <td>2020-02-15</td>\n",
              "      <td>?smet Atl? Stadyumu</td>\n",
              "      <td>1614</td>\n",
              "      <td>3. Lig - Group 2</td>\n",
              "      <td>Turkey</td>\n",
              "      <td>2019</td>\n",
              "      <td>Group 2 - 23</td>\n",
              "      <td>?smet Atl? Stadyumu</td>\n",
              "      <td>Kozan</td>\n",
              "      <td>2500.0</td>\n",
              "      <td>Turkey</td>\n",
              "      <td>1955.0</td>\n",
              "      <td>Dr. Fehmi Öncel Stad?</td>\n",
              "      <td>Tekirova</td>\n",
              "      <td>4000.0</td>\n",
              "      <td>Turkey</td>\n",
              "      <td>2003.0</td>\n",
              "      <td>N 2</td>\n",
              "      <td>NaN</td>\n",
              "      <td>-2.5</td>\n",
              "      <td>-1.5</td>\n",
              "      <td>10</td>\n",
              "      <td>45</td>\n",
              "      <td>45</td>\n",
              "      <td>56</td>\n",
              "      <td>44</td>\n",
              "      <td>38</td>\n",
              "      <td>63</td>\n",
              "      <td>71</td>\n",
              "      <td>29</td>\n",
              "      <td>64</td>\n",
              "      <td>36</td>\n",
              "      <td>0</td>\n",
              "      <td>100</td>\n",
              "      <td>18</td>\n",
              "      <td>82</td>\n",
              "      <td>33</td>\n",
              "      <td>...</td>\n",
              "      <td>0.8</td>\n",
              "      <td>1.1</td>\n",
              "      <td>1.8</td>\n",
              "      <td>2</td>\n",
              "      <td>2</td>\n",
              "      <td>1</td>\n",
              "      <td>0</td>\n",
              "      <td>0</td>\n",
              "      <td>0</td>\n",
              "      <td>1</td>\n",
              "      <td>2</td>\n",
              "      <td>5</td>\n",
              "      <td>1.0</td>\n",
              "      <td>10</td>\n",
              "      <td>2.0</td>\n",
              "      <td>11</td>\n",
              "      <td>10</td>\n",
              "      <td>4</td>\n",
              "      <td>1</td>\n",
              "      <td>1</td>\n",
              "      <td>3</td>\n",
              "      <td>6</td>\n",
              "      <td>6</td>\n",
              "      <td>16</td>\n",
              "      <td>7</td>\n",
              "      <td>20</td>\n",
              "      <td>20</td>\n",
              "      <td>1.5</td>\n",
              "      <td>0.7</td>\n",
              "      <td>1.8</td>\n",
              "      <td>2.0</td>\n",
              "      <td>2</td>\n",
              "      <td>2</td>\n",
              "      <td>2</td>\n",
              "      <td>1</td>\n",
              "      <td>0</td>\n",
              "      <td>0</td>\n",
              "      <td>0</td>\n",
              "      <td>1</td>\n",
              "      <td>1</td>\n",
              "    </tr>\n",
              "    <tr>\n",
              "      <th>2</th>\n",
              "      <td>317056</td>\n",
              "      <td>2312</td>\n",
              "      <td>2302</td>\n",
              "      <td>2019-08-23</td>\n",
              "      <td>Estadio Olímpico Andrés Quintana Roo (Cancún)</td>\n",
              "      <td>587</td>\n",
              "      <td>Ascenso MX</td>\n",
              "      <td>Mexico</td>\n",
              "      <td>2019</td>\n",
              "      <td>Apertura - 4</td>\n",
              "      <td>NaN</td>\n",
              "      <td>NaN</td>\n",
              "      <td>NaN</td>\n",
              "      <td>Mexico</td>\n",
              "      <td>1916.0</td>\n",
              "      <td>Estadio Universitario Alberto Chivo Córdoba</td>\n",
              "      <td>Toluca de Lerdo</td>\n",
              "      <td>32000.0</td>\n",
              "      <td>Mexico</td>\n",
              "      <td>1970.0</td>\n",
              "      <td>2</td>\n",
              "      <td>NaN</td>\n",
              "      <td>-1.5</td>\n",
              "      <td>-3.5</td>\n",
              "      <td>10</td>\n",
              "      <td>45</td>\n",
              "      <td>45</td>\n",
              "      <td>50</td>\n",
              "      <td>50</td>\n",
              "      <td>29</td>\n",
              "      <td>71</td>\n",
              "      <td>20</td>\n",
              "      <td>80</td>\n",
              "      <td>0</td>\n",
              "      <td>0</td>\n",
              "      <td>40</td>\n",
              "      <td>60</td>\n",
              "      <td>38</td>\n",
              "      <td>63</td>\n",
              "      <td>44</td>\n",
              "      <td>...</td>\n",
              "      <td>1.0</td>\n",
              "      <td>0.0</td>\n",
              "      <td>2.0</td>\n",
              "      <td>4</td>\n",
              "      <td>3</td>\n",
              "      <td>2</td>\n",
              "      <td>0</td>\n",
              "      <td>1</td>\n",
              "      <td>0</td>\n",
              "      <td>1</td>\n",
              "      <td>3</td>\n",
              "      <td>5</td>\n",
              "      <td>2.5</td>\n",
              "      <td>1</td>\n",
              "      <td>0.5</td>\n",
              "      <td>1</td>\n",
              "      <td>1</td>\n",
              "      <td>1</td>\n",
              "      <td>0</td>\n",
              "      <td>0</td>\n",
              "      <td>1</td>\n",
              "      <td>0</td>\n",
              "      <td>0</td>\n",
              "      <td>4</td>\n",
              "      <td>1</td>\n",
              "      <td>0</td>\n",
              "      <td>1</td>\n",
              "      <td>4.0</td>\n",
              "      <td>1.0</td>\n",
              "      <td>0.0</td>\n",
              "      <td>1.0</td>\n",
              "      <td>3</td>\n",
              "      <td>4</td>\n",
              "      <td>3</td>\n",
              "      <td>1</td>\n",
              "      <td>0</td>\n",
              "      <td>1</td>\n",
              "      <td>0</td>\n",
              "      <td>2</td>\n",
              "      <td>0</td>\n",
              "    </tr>\n",
              "    <tr>\n",
              "      <th>3</th>\n",
              "      <td>487467</td>\n",
              "      <td>12711</td>\n",
              "      <td>6638</td>\n",
              "      <td>2019-11-09</td>\n",
              "      <td>Sportplatz Rheinau</td>\n",
              "      <td>2246</td>\n",
              "      <td>1. Liga Classic - Group 3</td>\n",
              "      <td>Switzerland</td>\n",
              "      <td>2019</td>\n",
              "      <td>Group 3 - 14</td>\n",
              "      <td>Sportplatz Rheinau</td>\n",
              "      <td>Balzers</td>\n",
              "      <td>2000.0</td>\n",
              "      <td>Liechtenstein</td>\n",
              "      <td>1932.0</td>\n",
              "      <td>Sportplatz Allmend Brunau</td>\n",
              "      <td>Zürich</td>\n",
              "      <td>3500.0</td>\n",
              "      <td>Switzerland</td>\n",
              "      <td>NaN</td>\n",
              "      <td>N 2</td>\n",
              "      <td>1.5</td>\n",
              "      <td>-2.5</td>\n",
              "      <td>-3.5</td>\n",
              "      <td>10</td>\n",
              "      <td>45</td>\n",
              "      <td>45</td>\n",
              "      <td>36</td>\n",
              "      <td>64</td>\n",
              "      <td>33</td>\n",
              "      <td>67</td>\n",
              "      <td>37</td>\n",
              "      <td>63</td>\n",
              "      <td>42</td>\n",
              "      <td>58</td>\n",
              "      <td>100</td>\n",
              "      <td>0</td>\n",
              "      <td>100</td>\n",
              "      <td>0</td>\n",
              "      <td>27</td>\n",
              "      <td>...</td>\n",
              "      <td>1.3</td>\n",
              "      <td>1.7</td>\n",
              "      <td>3.3</td>\n",
              "      <td>1</td>\n",
              "      <td>2</td>\n",
              "      <td>0</td>\n",
              "      <td>1</td>\n",
              "      <td>1</td>\n",
              "      <td>1</td>\n",
              "      <td>0</td>\n",
              "      <td>0</td>\n",
              "      <td>12</td>\n",
              "      <td>2.4</td>\n",
              "      <td>10</td>\n",
              "      <td>2.0</td>\n",
              "      <td>7</td>\n",
              "      <td>6</td>\n",
              "      <td>3</td>\n",
              "      <td>3</td>\n",
              "      <td>1</td>\n",
              "      <td>1</td>\n",
              "      <td>3</td>\n",
              "      <td>2</td>\n",
              "      <td>15</td>\n",
              "      <td>10</td>\n",
              "      <td>13</td>\n",
              "      <td>11</td>\n",
              "      <td>2.1</td>\n",
              "      <td>1.7</td>\n",
              "      <td>1.9</td>\n",
              "      <td>1.8</td>\n",
              "      <td>2</td>\n",
              "      <td>1</td>\n",
              "      <td>0</td>\n",
              "      <td>0</td>\n",
              "      <td>1</td>\n",
              "      <td>1</td>\n",
              "      <td>1</td>\n",
              "      <td>0</td>\n",
              "      <td>0</td>\n",
              "    </tr>\n",
              "    <tr>\n",
              "      <th>4</th>\n",
              "      <td>368836</td>\n",
              "      <td>563</td>\n",
              "      <td>209</td>\n",
              "      <td>2019-08-29</td>\n",
              "      <td>Yaakov Turner Toto Stadium</td>\n",
              "      <td>514</td>\n",
              "      <td>UEFA Europa League</td>\n",
              "      <td>World</td>\n",
              "      <td>2019</td>\n",
              "      <td>Play-offs</td>\n",
              "      <td>Yaakov Turner Toto Stadium</td>\n",
              "      <td>Beer Sheva</td>\n",
              "      <td>16126.0</td>\n",
              "      <td>Israel</td>\n",
              "      <td>1949.0</td>\n",
              "      <td>Stadion Feijenoord</td>\n",
              "      <td>Rotterdam</td>\n",
              "      <td>47625.0</td>\n",
              "      <td>Netherlands</td>\n",
              "      <td>1908.0</td>\n",
              "      <td>N 2</td>\n",
              "      <td>NaN</td>\n",
              "      <td>-2.5</td>\n",
              "      <td>-2.5</td>\n",
              "      <td>10</td>\n",
              "      <td>45</td>\n",
              "      <td>45</td>\n",
              "      <td>53</td>\n",
              "      <td>47</td>\n",
              "      <td>47</td>\n",
              "      <td>53</td>\n",
              "      <td>14</td>\n",
              "      <td>86</td>\n",
              "      <td>81</td>\n",
              "      <td>19</td>\n",
              "      <td>0</td>\n",
              "      <td>100</td>\n",
              "      <td>0</td>\n",
              "      <td>100</td>\n",
              "      <td>53</td>\n",
              "      <td>...</td>\n",
              "      <td>0.8</td>\n",
              "      <td>0.3</td>\n",
              "      <td>1.5</td>\n",
              "      <td>1</td>\n",
              "      <td>1</td>\n",
              "      <td>0</td>\n",
              "      <td>0</td>\n",
              "      <td>0</td>\n",
              "      <td>0</td>\n",
              "      <td>1</td>\n",
              "      <td>1</td>\n",
              "      <td>8</td>\n",
              "      <td>2.7</td>\n",
              "      <td>1</td>\n",
              "      <td>0.3</td>\n",
              "      <td>2</td>\n",
              "      <td>1</td>\n",
              "      <td>2</td>\n",
              "      <td>0</td>\n",
              "      <td>0</td>\n",
              "      <td>1</td>\n",
              "      <td>0</td>\n",
              "      <td>0</td>\n",
              "      <td>7</td>\n",
              "      <td>1</td>\n",
              "      <td>0</td>\n",
              "      <td>1</td>\n",
              "      <td>3.5</td>\n",
              "      <td>1.0</td>\n",
              "      <td>0.0</td>\n",
              "      <td>1.0</td>\n",
              "      <td>1</td>\n",
              "      <td>1</td>\n",
              "      <td>1</td>\n",
              "      <td>1</td>\n",
              "      <td>0</td>\n",
              "      <td>0</td>\n",
              "      <td>0</td>\n",
              "      <td>0</td>\n",
              "      <td>2</td>\n",
              "    </tr>\n",
              "  </tbody>\n",
              "</table>\n",
              "<p>5 rows × 102 columns</p>\n",
              "</div>"
            ],
            "text/plain": [
              "   fixture_id  teams_home_team_id  ...  teams_away_last_h2h_loses_away outcome\n",
              "0      153809                 407  ...                               7       1\n",
              "1      363929                7412  ...                               1       1\n",
              "2      317056                2312  ...                               2       0\n",
              "3      487467               12711  ...                               0       0\n",
              "4      368836                 563  ...                               0       2\n",
              "\n",
              "[5 rows x 102 columns]"
            ]
          },
          "metadata": {
            "tags": []
          },
          "execution_count": 2
        }
      ]
    },
    {
      "cell_type": "code",
      "metadata": {
        "id": "o_7wmzeqdds5",
        "colab_type": "code",
        "colab": {
          "base_uri": "https://localhost:8080/",
          "height": 217
        },
        "outputId": "390cb8b2-a874-4591-861a-22a665e57b18"
      },
      "source": [
        "# Checking for Missing Values\n",
        "train.isnull().sum().sort_values(ascending = False)"
      ],
      "execution_count": 3,
      "outputs": [
        {
          "output_type": "execute_result",
          "data": {
            "text/plain": [
              "under_over                         22000\n",
              "home_team_founded                   8672\n",
              "away_team_founded                   8657\n",
              "away_team_venue_city                4620\n",
              "home_team_venue_city                4589\n",
              "                                   ...  \n",
              "teams_home_last_h2h_draws_away         0\n",
              "teams_home_last_h2h_loses_home         0\n",
              "teams_home_last_h2h_loses_away         0\n",
              "teams_away_last_5_matches_goals        0\n",
              "fixture_id                             0\n",
              "Length: 102, dtype: int64"
            ]
          },
          "metadata": {
            "tags": []
          },
          "execution_count": 3
        }
      ]
    },
    {
      "cell_type": "code",
      "metadata": {
        "id": "-GhLgt-JcAuY",
        "colab_type": "code",
        "colab": {
          "base_uri": "https://localhost:8080/",
          "height": 50
        },
        "outputId": "84ab7318-9514-45d2-bf80-47888c277ed7"
      },
      "source": [
        "y_train = train['outcome']\n",
        "X_train = train[['goals_home','goals_away','winning_percent_home','winning_percent_draws','winning_percent_away']]\n",
        "print('Dimension of Training Outcome: ', y_train.shape)\n",
        "print('Dimension of Training Features:',X_train.shape)"
      ],
      "execution_count": 4,
      "outputs": [
        {
          "output_type": "stream",
          "text": [
            "Dimension of Training Outcome:  (31600,)\n",
            "Dimension of Training Features: (31600, 5)\n"
          ],
          "name": "stdout"
        }
      ]
    },
    {
      "cell_type": "code",
      "metadata": {
        "id": "qZ10h2xEjZx4",
        "colab_type": "code",
        "colab": {
          "base_uri": "https://localhost:8080/",
          "height": 50
        },
        "outputId": "6da8e632-0e9c-4677-e8f1-a232885e8e36"
      },
      "source": [
        "y_val = validation['outcome']\n",
        "X_val = validation[['goals_home','goals_away','winning_percent_home','winning_percent_draws','winning_percent_away']]\n",
        "print('Dimension of Training Outcome: ', y_val.shape)\n",
        "print('Dimension of Training Features:',X_val.shape)"
      ],
      "execution_count": 5,
      "outputs": [
        {
          "output_type": "stream",
          "text": [
            "Dimension of Training Outcome:  (7900,)\n",
            "Dimension of Training Features: (7900, 5)\n"
          ],
          "name": "stdout"
        }
      ]
    },
    {
      "cell_type": "code",
      "metadata": {
        "id": "KjA8UhEuf_zJ",
        "colab_type": "code",
        "colab": {
          "base_uri": "https://localhost:8080/",
          "height": 33
        },
        "outputId": "d83d53b3-cfee-49f4-f0c1-09a9da456359"
      },
      "source": [
        "# Missing values in Outcome variable\n",
        "y_train.isnull().sum()"
      ],
      "execution_count": 6,
      "outputs": [
        {
          "output_type": "execute_result",
          "data": {
            "text/plain": [
              "0"
            ]
          },
          "metadata": {
            "tags": []
          },
          "execution_count": 6
        }
      ]
    },
    {
      "cell_type": "code",
      "metadata": {
        "id": "zKzq2JPqfsYp",
        "colab_type": "code",
        "colab": {
          "base_uri": "https://localhost:8080/",
          "height": 117
        },
        "outputId": "ff1efdf0-b7c2-4197-87a3-0ca31488644a"
      },
      "source": [
        "# Missing values in Predictor variables\n",
        "X_train.isnull().sum()"
      ],
      "execution_count": 7,
      "outputs": [
        {
          "output_type": "execute_result",
          "data": {
            "text/plain": [
              "goals_home               2155\n",
              "goals_away               2057\n",
              "winning_percent_home        0\n",
              "winning_percent_draws       0\n",
              "winning_percent_away        0\n",
              "dtype: int64"
            ]
          },
          "metadata": {
            "tags": []
          },
          "execution_count": 7
        }
      ]
    },
    {
      "cell_type": "code",
      "metadata": {
        "id": "MFRyP77mhl1o",
        "colab_type": "code",
        "colab": {
          "base_uri": "https://localhost:8080/",
          "height": 117
        },
        "outputId": "9263b441-ab54-433d-9a7b-7b8e803eece1"
      },
      "source": [
        "# Replacing Missing Values from Training Features\n",
        "X_train = X_train.fillna(0)\n",
        "X_train.isnull().sum()"
      ],
      "execution_count": 8,
      "outputs": [
        {
          "output_type": "execute_result",
          "data": {
            "text/plain": [
              "goals_home               0\n",
              "goals_away               0\n",
              "winning_percent_home     0\n",
              "winning_percent_draws    0\n",
              "winning_percent_away     0\n",
              "dtype: int64"
            ]
          },
          "metadata": {
            "tags": []
          },
          "execution_count": 8
        }
      ]
    },
    {
      "cell_type": "code",
      "metadata": {
        "id": "yCbxKI7xkB3R",
        "colab_type": "code",
        "colab": {
          "base_uri": "https://localhost:8080/",
          "height": 117
        },
        "outputId": "fe527377-4fd2-43e9-b24b-14bb454defa8"
      },
      "source": [
        "# Replacing Missing Values from Validation Features\n",
        "X_val = X_val.fillna(0)\n",
        "X_val.isnull().sum()"
      ],
      "execution_count": 9,
      "outputs": [
        {
          "output_type": "execute_result",
          "data": {
            "text/plain": [
              "goals_home               0\n",
              "goals_away               0\n",
              "winning_percent_home     0\n",
              "winning_percent_draws    0\n",
              "winning_percent_away     0\n",
              "dtype: int64"
            ]
          },
          "metadata": {
            "tags": []
          },
          "execution_count": 9
        }
      ]
    },
    {
      "cell_type": "code",
      "metadata": {
        "id": "qG1vT0o6dBiD",
        "colab_type": "code",
        "colab": {}
      },
      "source": [
        "# Importing k-NN Classifier\n",
        "from sklearn.neighbors import KNeighborsClassifier\n",
        "\n",
        "# Create a k-NN classifier with 6 neighbors\n",
        "knn = KNeighborsClassifier(n_neighbors = 3)\n",
        "\n",
        "# Fit the classifier to the data\n",
        "knn.fit(X_train, y_train)\n",
        "\n",
        "# Predicting outcome on validation set\n",
        "y_pred = knn.predict(X_val)"
      ],
      "execution_count": 15,
      "outputs": []
    },
    {
      "cell_type": "code",
      "metadata": {
        "id": "BJ4me4CpkbkE",
        "colab_type": "code",
        "colab": {
          "base_uri": "https://localhost:8080/",
          "height": 33
        },
        "outputId": "252c7b32-c8cd-4b28-ca31-b85229f398ac"
      },
      "source": [
        "# R^2 of current model\n",
        "print(knn.score(X_val, y_val))"
      ],
      "execution_count": 16,
      "outputs": [
        {
          "output_type": "stream",
          "text": [
            "0.3967088607594937\n"
          ],
          "name": "stdout"
        }
      ]
    },
    {
      "cell_type": "code",
      "metadata": {
        "id": "UGyCTJOZl61T",
        "colab_type": "code",
        "colab": {}
      },
      "source": [
        "# # This GridSearch won't be required since the number of prediction classes are fixed, i.e. 3\n",
        "\n",
        "# # Import necessary modules\n",
        "# from scipy.stats import randint\n",
        "# from sklearn.model_selection import GridSearchCV\n",
        "\n",
        "# # Setup the hyperparameter grid\n",
        "# param_grid = {'n_neighbors': [1,2,3,4,5,6,7,8,9]}\n",
        "\n",
        "# # Instantiate a logistic regression classifier: logreg\n",
        "# knn = KNeighborsClassifier()\n",
        "\n",
        "# # Instantiate the GridSearchCV object: logreg_cv\n",
        "# knn_cv = GridSearchCV(knn, param_grid, cv = 5)\n",
        "\n",
        "# # Fit it to the data\n",
        "# knn_cv.fit(X_train, y_train)\n",
        "\n",
        "# # Print the tuned parameters and score\n",
        "# print(\"Tuned K-NN Parameters: {}\".format(knn_cv.best_params_)) \n",
        "# print(\"Best score is {}\".format(knn_cv.best_score_))"
      ],
      "execution_count": null,
      "outputs": []
    },
    {
      "cell_type": "code",
      "metadata": {
        "id": "JJcL6lTXovwv",
        "colab_type": "code",
        "colab": {
          "base_uri": "https://localhost:8080/",
          "height": 1000
        },
        "outputId": "444fb4ce-c65a-4d9f-f966-0e38f701fd39"
      },
      "source": [
        "train.columns.to_list()"
      ],
      "execution_count": 19,
      "outputs": [
        {
          "output_type": "execute_result",
          "data": {
            "text/plain": [
              "['fixture_id',\n",
              " 'teams_home_team_id',\n",
              " 'teams_away_team_id',\n",
              " 'fixture_date',\n",
              " 'fixture_venue',\n",
              " 'league_id',\n",
              " 'league_name',\n",
              " 'league_country',\n",
              " 'league_season',\n",
              " 'league_round',\n",
              " 'home_team_venue_name',\n",
              " 'home_team_venue_city',\n",
              " 'home_team_venue_capacity',\n",
              " 'home_team_country',\n",
              " 'home_team_founded',\n",
              " 'away_team_venue_name',\n",
              " 'away_team_venue_city',\n",
              " 'away_team_venue_capacity',\n",
              " 'away_team_country',\n",
              " 'away_team_founded',\n",
              " 'match_winner',\n",
              " 'under_over',\n",
              " 'goals_home',\n",
              " 'goals_away',\n",
              " 'winning_percent_home',\n",
              " 'winning_percent_draws',\n",
              " 'winning_percent_away',\n",
              " 'comparison_forme_home',\n",
              " 'comparison_forme_away',\n",
              " 'comparison_att_home',\n",
              " 'comparison_att_away',\n",
              " 'comparison_def_home',\n",
              " 'comparison_def_away',\n",
              " 'comparison_fish_law_home',\n",
              " 'comparison_fish_law_away',\n",
              " 'comparison_h2h_home',\n",
              " 'comparison_h2h_away',\n",
              " 'comparison_goals_h2h_home',\n",
              " 'comparison_goals_h2h_away',\n",
              " 'teams_home_last_5_matches_forme',\n",
              " 'teams_home_last_5_matches_att',\n",
              " 'teams_home_last_5_matches_def',\n",
              " 'teams_away_last_5_matches_forme',\n",
              " 'teams_away_last_5_matches_att',\n",
              " 'teams_away_last_5_matches_def',\n",
              " 'teams_home_last_5_matches_goals',\n",
              " 'teams_home_last_5_matches_goals_avg',\n",
              " 'teams_home_last_5_matches_goals_against',\n",
              " 'teams_home_last_5_matches_goals_against_avg',\n",
              " 'teams_home_all_last_matches_matchs_matchsPlayed_home',\n",
              " 'teams_home_all_last_matches_matchs_matchsPlayed_away',\n",
              " 'teams_home_all_last_matches_matchs_wins_home',\n",
              " 'teams_home_all_last_matches_matchs_wins_away',\n",
              " 'teams_home_all_last_matches_matchs_draws_home',\n",
              " 'teams_home_all_last_matches_matchs_draws_away',\n",
              " 'teams_home_all_last_matches_matchs_loses_home',\n",
              " 'teams_home_all_last_matches_matchs_loses_away',\n",
              " 'teams_home_all_last_matches_goals_goalsFor_home',\n",
              " 'teams_home_all_last_matches_goals_goalsFor_away',\n",
              " 'teams_home_all_last_matches_goals_goalsAgainst_home',\n",
              " 'teams_home_all_last_matches_goals_goalsAgainst_away',\n",
              " 'teams_home_all_last_matches_goalsAvg_goalsFor_home',\n",
              " 'teams_home_all_last_matches_goalsAvg_goalsFor_away',\n",
              " 'teams_home_all_last_matches_goalsAvg_goalsAgainst_home',\n",
              " 'teams_home_all_last_matches_goalsAvg_goalsAgainst_away',\n",
              " 'teams_home_last_h2h_played_home',\n",
              " 'teams_home_last_h2h_played_away',\n",
              " 'teams_home_last_h2h_wins_home',\n",
              " 'teams_home_last_h2h_wins_away',\n",
              " 'teams_home_last_h2h_draws_home',\n",
              " 'teams_home_last_h2h_draws_away',\n",
              " 'teams_home_last_h2h_loses_home',\n",
              " 'teams_home_last_h2h_loses_away',\n",
              " 'teams_away_last_5_matches_goals',\n",
              " 'teams_away_last_5_matches_goals_avg',\n",
              " 'teams_away_last_5_matches_goals_against',\n",
              " 'teams_away_last_5_matches_goals_against_avg',\n",
              " 'teams_away_all_last_matches_matchs_matchsPlayed_home',\n",
              " 'teams_away_all_last_matches_matchs_matchsPlayed_away',\n",
              " 'teams_away_all_last_matches_matchs_wins_home',\n",
              " 'teams_away_all_last_matches_matchs_wins_away',\n",
              " 'teams_away_all_last_matches_matchs_draws_home',\n",
              " 'teams_away_all_last_matches_matchs_draws_away',\n",
              " 'teams_away_all_last_matches_matchs_loses_home',\n",
              " 'teams_away_all_last_matches_matchs_loses_away',\n",
              " 'teams_away_all_last_matches_goals_goalsFor_home',\n",
              " 'teams_away_all_last_matches_goals_goalsFor_away',\n",
              " 'teams_away_all_last_matches_goals_goalsAgainst_home',\n",
              " 'teams_away_all_last_matches_goals_goalsAgainst_away',\n",
              " 'teams_away_all_last_matches_goalsAvg_goalsFor_home',\n",
              " 'teams_away_all_last_matches_goalsAvg_goalsFor_away',\n",
              " 'teams_away_all_last_matches_goalsAvg_goalsAgainst_home',\n",
              " 'teams_away_all_last_matches_goalsAvg_goalsAgainst_away',\n",
              " 'teams_away_last_h2h_played_home',\n",
              " 'teams_away_last_h2h_played_away',\n",
              " 'teams_away_last_h2h_wins_home',\n",
              " 'teams_away_last_h2h_wins_away',\n",
              " 'teams_away_last_h2h_draws_home',\n",
              " 'teams_away_last_h2h_draws_away',\n",
              " 'teams_away_last_h2h_loses_home',\n",
              " 'teams_away_last_h2h_loses_away',\n",
              " 'outcome']"
            ]
          },
          "metadata": {
            "tags": []
          },
          "execution_count": 19
        }
      ]
    }
  ]
}